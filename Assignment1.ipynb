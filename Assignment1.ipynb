{
 "cells": [
  {
   "cell_type": "markdown",
   "metadata": {},
   "source": [
    "# Introduction to Data Science（HW1）"
   ]
  },
  {
   "cell_type": "code",
   "execution_count": 1,
   "metadata": {},
   "outputs": [],
   "source": [
    "import os\n",
    "os.environ[\"JAVA_HOME\"] = \"C:\\Program Files\\Java\\jdk1.8.0_202\""
   ]
  },
  {
   "cell_type": "code",
   "execution_count": 2,
   "metadata": {
    "id": "xgQaRx6rSaf9"
   },
   "outputs": [],
   "source": [
    "# Let's import the libraries we will need\n",
    "import pandas as pd\n",
    "import numpy as np\n",
    "import matplotlib.pyplot as plt\n",
    "%matplotlib inline\n",
    "\n",
    "\n",
    "import pyspark\n",
    "from pyspark.sql import *\n",
    "from pyspark.sql.functions import *\n",
    "from pyspark import SparkContext, SparkConf\n",
    "\n",
    "\n"
   ]
  },
  {
   "cell_type": "markdown",
   "metadata": {
    "id": "uUD5XpD_SagA"
   },
   "source": [
    "Let's initialize the Spark context.\n"
   ]
  },
  {
   "cell_type": "code",
   "execution_count": 3,
   "metadata": {
    "id": "7ft3VivrSagB"
   },
   "outputs": [],
   "source": [
    "# create the session\n",
    "conf = SparkConf().set(\"spark.ui.port\", \"4050\")\n",
    "\n",
    "# create the context\n",
    "sc = pyspark.SparkContext(conf=conf)\n",
    "spark = SparkSession.builder.getOrCreate()"
   ]
  },
  {
   "cell_type": "code",
   "execution_count": 4,
   "metadata": {},
   "outputs": [],
   "source": [
    "import pyspark\n",
    "from pyspark import SparkContext as sc\n",
    "from pyspark import SparkConf\n",
    "conf=SparkConf().setAppName(\"miniProject\").setMaster(\"local[*]\")\n",
    "sc=SparkContext.getOrCreate(conf)\n",
    "spark = SparkSession.builder.getOrCreate()"
   ]
  },
  {
   "cell_type": "markdown",
   "metadata": {
    "id": "-n20ixkgSagD"
   },
   "source": [
    "You can easily check the current version and get the link of the web interface. In the Spark UI, you can monitor the progress of your job and debug the performance bottlenecks (if your Colab is running with a **local runtime**)."
   ]
  },
  {
   "cell_type": "code",
   "execution_count": 5,
   "metadata": {},
   "outputs": [
    {
     "data": {
      "text/html": [
       "\n",
       "            <div>\n",
       "                <p><b>SparkSession - in-memory</b></p>\n",
       "                \n",
       "        <div>\n",
       "            <p><b>SparkContext</b></p>\n",
       "\n",
       "            <p><a href=\"http://139.226.129.142:4050\">Spark UI</a></p>\n",
       "\n",
       "            <dl>\n",
       "              <dt>Version</dt>\n",
       "                <dd><code>v3.0.3</code></dd>\n",
       "              <dt>Master</dt>\n",
       "                <dd><code>local[*]</code></dd>\n",
       "              <dt>AppName</dt>\n",
       "                <dd><code>pyspark-shell</code></dd>\n",
       "            </dl>\n",
       "        </div>\n",
       "        \n",
       "            </div>\n",
       "        "
      ],
      "text/plain": [
       "<pyspark.sql.session.SparkSession at 0x22fd4b33d30>"
      ]
     },
     "execution_count": 5,
     "metadata": {},
     "output_type": "execute_result"
    }
   ],
   "source": [
    "spark"
   ]
  },
  {
   "cell_type": "markdown",
   "metadata": {},
   "source": [
    "# Qustion 1：Know More about Vietnam War"
   ]
  },
  {
   "cell_type": "markdown",
   "metadata": {
    "id": "skjUv84VSagJ"
   },
   "source": [
    "**Dataset Information:**\n",
    "\n",
    "THOR is a painstakingly cultivated database of historic aerial bombings from World War I through Vietnam. THOR has already proven useful in finding unexploded ordnance in Southeast Asia and improving Air Force combat tactics:\n",
    "https://www.kaggle.com/usaf/vietnam-war-bombing-operations"
   ]
  },
  {
   "cell_type": "markdown",
   "metadata": {
    "id": "VSWoULeWSagJ"
   },
   "source": []
  },
  {
   "cell_type": "code",
   "execution_count": 6,
   "metadata": {
    "id": "XLyVPuLXSagK"
   },
   "outputs": [],
   "source": [
    "Bombing_Operations = spark.read.json(\"Bombing_Operations.json.gz\")\n",
    "Aircraft_Glossary = spark.read.json(\"Aircraft_Glossary.json.gz\")"
   ]
  },
  {
   "cell_type": "markdown",
   "metadata": {},
   "source": [
    "**1.   Select 3 sample (random choose) of Bombing_Operations and save the result as TempTable**\n",
    "\n",
    "**(10 point)**"
   ]
  },
  {
   "cell_type": "code",
   "execution_count": 7,
   "metadata": {},
   "outputs": [
    {
     "name": "stdout",
     "output_type": "stream",
     "text": [
      "[Row(AirCraft='EC-47', ContryFlyingMission='UNITED STATES OF AMERICA', MissionDate='1971-06-05', OperationSupported=None, PeriodOfDay='D', TakeoffLocation='TAN SON NHUT', TargetCountry='CAMBODIA', TimeOnTarget=1005.0, WeaponType=None, WeaponsLoadedWeight=0), Row(AirCraft='EC-47', ContryFlyingMission='UNITED STATES OF AMERICA', MissionDate='1972-12-26', OperationSupported=None, PeriodOfDay='D', TakeoffLocation='NAKHON PHANOM', TargetCountry='SOUTH VIETNAM', TimeOnTarget=530.0, WeaponType=None, WeaponsLoadedWeight=0), Row(AirCraft='RF-4', ContryFlyingMission='UNITED STATES OF AMERICA', MissionDate='1973-07-28', OperationSupported=None, PeriodOfDay='D', TakeoffLocation='UDORN AB', TargetCountry='LAOS', TimeOnTarget=730.0, WeaponType=None, WeaponsLoadedWeight=0)]\n"
     ]
    }
   ],
   "source": [
    "# YOUR CODE HERE\n",
    "tmptable=Bombing_Operations.take(3)\n",
    "print(tmptable)"
   ]
  },
  {
   "cell_type": "markdown",
   "metadata": {},
   "source": [
    "\n",
    "**2. Count the top 5 countries considered to be the most Targetcountry in the Bombing_Operations data set, and count their total TimeOnTarget**\n",
    "\n",
    "**(10 point)**"
   ]
  },
  {
   "cell_type": "code",
   "execution_count": 149,
   "metadata": {},
   "outputs": [
    {
     "name": "stdout",
     "output_type": "stream",
     "text": [
      "+--------------+-------+-------------+\n",
      "| Targetcountry|  Count| TimeOnTarget|\n",
      "+--------------+-------+-------------+\n",
      "| SOUTH VIETNAM|2172403|1.778017197E9|\n",
      "|          LAOS|1254695|1.162924419E9|\n",
      "| NORTH VIETNAM| 694269| 6.05604794E8|\n",
      "|      CAMBODIA| 218788| 1.69886781E8|\n",
      "|      THAILAND|  60486|  4.5229813E7|\n",
      "|WESTPAC WATERS|     74|      18775.0|\n",
      "|       UNKNOWN|     59|      35939.0|\n",
      "|   PHILLIPINES|      1|          0.0|\n",
      "+--------------+-------+-------------+\n",
      "\n"
     ]
    }
   ],
   "source": [
    "# YOUR CODE HERE\n",
    "TargetCountry_counts = Bombing_Operations.groupBy(\"Targetcountry\")\\\n",
    "                                        .agg(count(\"*\").alias(\"Count\"),sum(\"TimeOnTarget\").alias(\"TimeOnTarget\"))\\\n",
    "                                        .sort(desc(\"Count\"))                         \n",
    "TargetCountry_counts.show()\n",
    "\n"
   ]
  },
  {
   "cell_type": "markdown",
   "metadata": {},
   "source": [
    "**3. draw a bar graph of the number of different Aircraft types（y）in different TargetCountry （x）(legend: Aircraft type)**\n",
    "\n",
    "**（20 point）**"
   ]
  },
  {
   "cell_type": "code",
   "execution_count": 165,
   "metadata": {},
   "outputs": [
    {
     "data": {
      "text/plain": [
       "<matplotlib.legend.Legend at 0x22fd7638100>"
      ]
     },
     "execution_count": 165,
     "metadata": {},
     "output_type": "execute_result"
    },
    {
     "data": {
      "image/png": "[encoded data removed]",
      "text/plain": [
       "<Figure size 432x288 with 1 Axes>"
      ]
     },
     "metadata": {
      "needs_background": "light"
     },
     "output_type": "display_data"
    }
   ],
   "source": [
    "# YOUR CODE HERE\n",
    "frame_joined=Bombing_Operations.join(Aircraft_Glossary, Bombing_Operations.AirCraft == Aircraft_Glossary.AirCraft)\n",
    "frame_selected=frame_joined.selectExpr([\"TargetCountry\",\"AirCraftType\"])\n",
    "teminal_frame=frame_selected.groupBy(\"AirCraftType\",\"TargetCountry\")\\\n",
    "                            .agg(count(\"*\").alias(\"typecount\"))\\\n",
    "                            .sort(desc(\"TargetCountry\"),desc(\"typecount\"))\\\n",
    "                            .toPandas()\n",
    "pl=teminal_frame.plot(kind=\"bar\",x=\"TargetCountry\",y=\"typecount\",label=\"AirCraftType\")\n",
    "\n",
    "plt.legend(loc='best')"
   ]
  },
  {
   "cell_type": "markdown",
   "metadata": {},
   "source": [
    "\n",
    "**4. Use the \\<Spark SQL\\> to select the weapon whose Aircraft type is'F-105' in Bombing_Operations data**\n",
    "\n",
    "**(20 point)**"
   ]
  },
  {
   "cell_type": "code",
   "execution_count": 27,
   "metadata": {},
   "outputs": [
    {
     "name": "stdout",
     "output_type": "stream",
     "text": [
      "+--------------------+-----+\n",
      "|              Weapon|Count|\n",
      "+--------------------+-----+\n",
      "|                null|46846|\n",
      "|      750LB GP M-117|26843|\n",
      "|                M-61|11964|\n",
      "|      500LB GP MK-82| 9952|\n",
      "|           CBU-24/29| 8036|\n",
      "|              SHRIKE| 6743|\n",
      "|    AGM-45A SHRIKE-3| 4808|\n",
      "|       2.75IN HE RKT| 3916|\n",
      "|AGM-72 STD AR MISSLE| 2712|\n",
      "|        2000LB MK-84| 2390|\n",
      "|        3000LB M-118| 2308|\n",
      "|          SIDEWINDER| 2232|\n",
      "|        1000LB MK-83| 2209|\n",
      "|        LAU-3A/AERO7| 2028|\n",
      "|MK 82 GP BOMB (50...| 1799|\n",
      "|           BULLPUP B| 1248|\n",
      "|      750LB BLU-1/27|  570|\n",
      "|              CBU 30|  565|\n",
      "|       500LB GP M-64|  440|\n",
      "|      STD/ARM AGM-78|  324|\n",
      "+--------------------+-----+\n",
      "only showing top 20 rows\n",
      "\n"
     ]
    }
   ],
   "source": [
    "# YOUR CODE HERE\n",
    "\n",
    "Bombing_Operations.registerTempTable(\"Bombing_Operations\")\n",
    "\n",
    "# sql select\n",
    "query = \"\"\"\n",
    "SELECT WeaponType as Weapon, count(*) as Count\n",
    "FROM Bombing_Operations\n",
    "WHERE AirCraft ==\"F-105\"\n",
    "GROUP BY WeaponType\n",
    "ORDER BY Count DESC\n",
    "\"\"\"\n",
    "\n",
    "missions_counts = spark.sql(query)\n",
    "missions_counts.show()"
   ]
  },
  {
   "cell_type": "markdown",
   "metadata": {},
   "source": [
    "**5. Count aircraft  from January to December where Take off Location as'TAN SON NHUT' in Bombing_Operations data, and plot the result.**\n",
    "\n",
    "**（20 point）**"
   ]
  },
  {
   "cell_type": "code",
   "execution_count": 79,
   "metadata": {
    "colab": {
     "base_uri": "https://localhost:8080/"
    },
    "id": "jrJpiG5ISagQ",
    "outputId": "6115ce55-17eb-49cc-f0fe-ff072a955454",
    "scrolled": true
   },
   "outputs": [
    {
     "data": {
      "image/png": "[encoded data removed]",
      "text/plain": [
       "<Figure size 432x288 with 1 Axes>"
      ]
     },
     "metadata": {
      "needs_background": "light"
     },
     "output_type": "display_data"
    }
   ],
   "source": [
    "# selectExpr() select columns ; to_date() datatype:date\n",
    "missions_countries = Bombing_Operations.selectExpr([\"month(MissionDate) as MissionDate\", \"TakeoffLocation\"])\n",
    "missions_countries\n",
    "missions_by_date = missions_countries\\\n",
    "                    .select(\"MissionDate\").where(col(\"TakeoffLocation\")=='TAN SON NHUT')\\\n",
    "                    .groupBy([\"MissionDate\"])\\\n",
    "                    .agg(count(\"*\").alias(\"MissionsCount\"))\\\n",
    "                    .sort(asc(\"MissionDate\")).toPandas()\n",
    "missions_by_date.head(12)\n",
    "\n",
    "pl=missions_by_date.plot(kind=\"bar\",x=\"MissionDate\",y=\"MissionsCount\",color=\"red\")"
   ]
  },
  {
   "cell_type": "markdown",
   "metadata": {},
   "source": [
    "**6. Please select the aircraft whose WeaponType is None and groupby each Target country**\n",
    "\n",
    "**（10 point）**"
   ]
  },
  {
   "cell_type": "code",
   "execution_count": 148,
   "metadata": {},
   "outputs": [
    {
     "name": "stdout",
     "output_type": "stream",
     "text": [
      "+--------------+---------+\n",
      "| TargetCountry| AirCraft|\n",
      "+--------------+---------+\n",
      "|WESTPAC WATERS|     RA-5|\n",
      "|WESTPAC WATERS|      F-4|\n",
      "|WESTPAC WATERS|      F-8|\n",
      "|WESTPAC WATERS|      A-1|\n",
      "|WESTPAC WATERS|      A-7|\n",
      "|WESTPAC WATERS|      A-4|\n",
      "|WESTPAC WATERS|    EKA-3|\n",
      "|WESTPAC WATERS|     EA-1|\n",
      "|WESTPAC WATERS|   EC-121|\n",
      "|WESTPAC WATERS|      A-6|\n",
      "|WESTPAC WATERS|      C-1|\n",
      "|       UNKNOWN|     TA-4|\n",
      "|       UNKNOWN|     RF-4|\n",
      "|       UNKNOWN|      F-4|\n",
      "|       UNKNOWN|    F-100|\n",
      "|       UNKNOWN|    EB-66|\n",
      "|       UNKNOWN|      A-4|\n",
      "|       UNKNOWN|    OV-10|\n",
      "|       UNKNOWN|    F-105|\n",
      "|       UNKNOWN|      F-8|\n",
      "|       UNKNOWN|      A-7|\n",
      "|       UNKNOWN|      A-6|\n",
      "|      THAILAND|     EA-6|\n",
      "|      THAILAND|     B-57|\n",
      "|      THAILAND|    QU-22|\n",
      "|      THAILAND|   HC-130|\n",
      "|      THAILAND|    AC-47|\n",
      "|      THAILAND|   YQU-22|\n",
      "|      THAILAND|   AC-119|\n",
      "|      THAILAND|    CH-46|\n",
      "|      THAILAND|    RB-66|\n",
      "|      THAILAND|NOT CODED|\n",
      "|      THAILAND|    EB-66|\n",
      "|      THAILAND|      A-6|\n",
      "|      THAILAND|     RA-5|\n",
      "|      THAILAND|      A-1|\n",
      "|      THAILAND|     KA-6|\n",
      "|      THAILAND|    OV-10|\n",
      "|      THAILAND|      F-4|\n",
      "|      THAILAND|      E-2|\n",
      "|      THAILAND|    C-123|\n",
      "|      THAILAND|      A-3|\n",
      "|      THAILAND|    C-130|\n",
      "|      THAILAND|    HH-43|\n",
      "|      THAILAND|    C-121|\n",
      "|      THAILAND|     T-29|\n",
      "|      THAILAND|    RC-47|\n",
      "|      THAILAND|   KC-130|\n",
      "|      THAILAND|    F-111|\n",
      "|      THAILAND|     U-21|\n",
      "+--------------+---------+\n",
      "only showing top 50 rows\n",
      "\n"
     ]
    }
   ],
   "source": [
    "pure=Bombing_Operations.where(\"WeaponType is Null\")\n",
    "temp=pure.selectExpr(\"AirCraft\",\"TargetCountry\")\n",
    "data=temp.groupBy(\"TargetCountry\",\"AirCraft\").agg(count(\"*\")).sort(desc(\"TargetCountry\"))\n",
    "data2=data.selectExpr(\"TargetCountry\",\"AirCraft\")\n",
    "data2.show(50)"
   ]
  },
  {
   "cell_type": "markdown",
   "metadata": {},
   "source": [
    "# Question 2：Instacart Market Basket Analysis（10 point）"
   ]
  },
  {
   "cell_type": "markdown",
   "metadata": {
    "colab": {
     "base_uri": "https://localhost:8080/"
    },
    "id": "3slo-sXOSagZ",
    "outputId": "04c05efb-42da-4762-91bf-13a1e3282325"
   },
   "source": [
    "The dataset for this competition is a relational set of files describing customers' orders over time. The goal of the competition is to predict which products will be in a user's next order. The dataset is anonymized and contains a sample of over 3 million grocery orders from more than 200,000 Instacart users. For each user, we provide between 4 and 100 of their orders, with the sequence of products purchased in each order. We also provide the week and hour of day the order was placed, and a relative measure of time between orders. For more information, see the blog post accompanying its public release.\n",
    "\n",
    "https://www.kaggle.com/c/instacart-market-basket-analysis/data"
   ]
  },
  {
   "cell_type": "markdown",
   "metadata": {},
   "source": [
    "**YOUR TASK**\n",
    "\n",
    "Use the Spark Dataframe API to join 'products' and 'orders', so that you will be able to see the product names in each transaction (and not only their ids). Then, group by the orders by 'order_id' to obtain one row per basket (i.e., set of products purchased together by one customer)."
   ]
  },
  {
   "cell_type": "code",
   "execution_count": 115,
   "metadata": {},
   "outputs": [],
   "source": [
    "products = spark.read.csv('products.csv', header=True, inferSchema=True)\n",
    "orders = spark.read.csv('order_products__train.csv', header=True, inferSchema=True)"
   ]
  },
  {
   "cell_type": "code",
   "execution_count": 151,
   "metadata": {
    "colab": {
     "base_uri": "https://localhost:8080/",
     "height": 204
    },
    "id": "4nVJdPLDSagb",
    "outputId": "dc5ea217-a966-4d3f-bbb0-fc80bf5d4daa"
   },
   "outputs": [
    {
     "name": "stdout",
     "output_type": "stream",
     "text": [
      "+--------+-----+\n",
      "|order_id|order|\n",
      "+--------+-----+\n",
      "| 2813632|  145|\n",
      "|  653280|  143|\n",
      "|  312611|  138|\n",
      "| 2869702|  137|\n",
      "| 2395604|  130|\n",
      "| 1395075|  128|\n",
      "| 1355077|  128|\n",
      "|  341238|  126|\n",
      "| 1388761|  125|\n",
      "|  484152|  124|\n",
      "| 2793449|  123|\n",
      "| 2841309|  123|\n",
      "| 2682845|  121|\n",
      "| 1747908|  121|\n",
      "|  736120|  119|\n",
      "| 1964627|  119|\n",
      "|  949182|  117|\n",
      "|  181928|  115|\n",
      "| 3313623|  114|\n",
      "|   45138|  113|\n",
      "+--------+-----+\n",
      "only showing top 20 rows\n",
      "\n"
     ]
    }
   ],
   "source": [
    "# YOUR CODE HERE\n",
    "joined = products.join(orders,products.product_id==orders.product_id)\n",
    "\n",
    "data = joined.groupby(\"order_id\")\\\n",
    "            .agg((count(\"add_to_cart_order\")+sum(\"reordered\")).alias(\"order\"))\\\n",
    "            .sort(desc(\"order\"))\n",
    "data.show()"
   ]
  },
  {
   "cell_type": "code",
   "execution_count": null,
   "metadata": {},
   "outputs": [],
   "source": []
  }
 ],
 "metadata": {
  "colab": {
   "collapsed_sections": [],
   "machine_shape": "hm",
   "name": "CS246 - Colab 0 (Spark Tutorial).ipynb",
   "provenance": [],
   "toc_visible": true
  },
  "kernelspec": {
   "display_name": "Python 3",
   "language": "python",
   "name": "python3"
  },
  "language_info": {
   "codemirror_mode": {
    "name": "ipython",
    "version": 3
   },
   "file_extension": ".py",
   "mimetype": "text/x-python",
   "name": "python",
   "nbconvert_exporter": "python",
   "pygments_lexer": "ipython3",
   "version": "3.8.8"
  },
  "toc": {
   "base_numbering": 1,
   "nav_menu": {},
   "number_sections": true,
   "sideBar": true,
   "skip_h1_title": false,
   "title_cell": "Table of Contents",
   "title_sidebar": "Contents",
   "toc_cell": false,
   "toc_position": {},
   "toc_section_display": true,
   "toc_window_display": false
  },
  "varInspector": {
   "cols": {
    "lenName": 16,
    "lenType": 16,
    "lenVar": 40
   },
   "kernels_config": {
    "python": {
     "delete_cmd_postfix": "",
     "delete_cmd_prefix": "del ",
     "library": "var_list.py",
     "varRefreshCmd": "print(var_dic_list())"
    },
    "r": {
     "delete_cmd_postfix": ") ",
     "delete_cmd_prefix": "rm(",
     "library": "var_list.r",
     "varRefreshCmd": "cat(var_dic_list()) "
    }
   },
   "types_to_exclude": [
    "module",
    "function",
    "builtin_function_or_method",
    "instance",
    "_Feature"
   ],
   "window_display": false
  }
 },
 "nbformat": 4,
 "nbformat_minor": 1
}
